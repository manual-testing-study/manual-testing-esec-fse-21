{
 "cells": [
  {
   "cell_type": "markdown",
   "metadata": {},
   "source": [
    "# Analysis Notebook for the Paper: *How Can Manual Testing Processes Be Optimized?*"
   ]
  },
  {
   "cell_type": "markdown",
   "metadata": {},
   "source": [
    "## Load modules and raw survey data"
   ]
  },
  {
   "cell_type": "code",
   "execution_count": null,
   "metadata": {
    "scrolled": true
   },
   "outputs": [],
   "source": [
    "# run the command below to install required python packages\n",
    "# !pip3 install pandas numpy matplotlib openpyxl"
   ]
  },
  {
   "cell_type": "code",
   "execution_count": null,
   "metadata": {},
   "outputs": [],
   "source": [
    "import matplotlib.pyplot as plt\n",
    "import matplotlib as mpl\n",
    "import numpy as np\n",
    "import os\n",
    "import pandas as pd\n",
    "from typing import Dict\n",
    "%matplotlib inline\n",
    "plt.style.use('default')"
   ]
  },
  {
   "cell_type": "code",
   "execution_count": null,
   "metadata": {},
   "outputs": [],
   "source": [
    "survey_answers_file_path = os.path.join(\"..\", \"survey\", \"survey-answers_anonymized.xlsx\")"
   ]
  },
  {
   "cell_type": "markdown",
   "metadata": {},
   "source": [
    "## Plotting utilities"
   ]
  },
  {
   "cell_type": "code",
   "execution_count": null,
   "metadata": {},
   "outputs": [],
   "source": [
    "import textwrap\n",
    "from matplotlib.ticker import MaxNLocator\n",
    "\n",
    "primary_color = \"#5c96a5\"\n",
    "gray_color = \"#f6f6f6\"\n",
    "labelsize = 20\n",
    "ticksize = 20\n",
    "linewidth = 2.5\n",
    "markersize = 8\n",
    "bar_width = 0.7\n",
    "box_width = 0.5\n",
    "boxplot_figsize = (2, 6)"
   ]
  },
  {
   "cell_type": "markdown",
   "metadata": {},
   "source": [
    "### Simple bar chart"
   ]
  },
  {
   "cell_type": "code",
   "execution_count": null,
   "metadata": {},
   "outputs": [],
   "source": [
    "def simple_barchart(data: Dict,\n",
    "                    output_path: str,\n",
    "                    ylabel: str = \"Mentions\"):\n",
    "    f, ax = plt.subplots(figsize=(len(data.keys())*1.1, 5))\n",
    "\n",
    "    ax.bar(data.keys(), data.values(), color=primary_color, width=bar_width)\n",
    "    \n",
    "    ax.grid(axis='y', which='both')\n",
    "    ax.yaxis.set_major_locator(MaxNLocator(integer=True))\n",
    "    ax.set_axisbelow(True)\n",
    "    \n",
    "    ax.xaxis.set_tick_params(labelsize=ticksize)\n",
    "    ax.yaxis.set_tick_params(labelsize=ticksize)\n",
    "    \n",
    "    plt.ylabel(ylabel, fontsize=labelsize)\n",
    "       \n",
    "    plt.xticks(range(len(data.keys())), [textwrap.fill(label, 16) for label in data.keys()], \n",
    "           rotation=90) #50, ha='right')\n",
    "    \n",
    "    ax.spines['right'].set_visible(False)\n",
    "    ax.spines['top'].set_visible(False)\n",
    "    \n",
    "    f.tight_layout(pad=0.0)\n",
    "    f.savefig(output_path)\n",
    "    plt.show()"
   ]
  },
  {
   "cell_type": "markdown",
   "metadata": {},
   "source": [
    "### Multi box plot"
   ]
  },
  {
   "cell_type": "code",
   "execution_count": null,
   "metadata": {},
   "outputs": [],
   "source": [
    "def multi_boxplot(data, labels, scales, output_path):\n",
    "    f, ax = plt.subplots(1, len(labels), figsize=(18, 8))\n",
    "    \n",
    "    labelsize = 22\n",
    "    ticksize = 18\n",
    "    linewidth = 2.0\n",
    "    markersize = 6\n",
    "    \n",
    "    for idx, d in enumerate(data):\n",
    "        ax[idx].boxplot(d,\n",
    "               patch_artist=True,\n",
    "               capprops=dict(linewidth=linewidth, markersize=markersize),\n",
    "               flierprops=dict(linewidth=linewidth, markersize=markersize),\n",
    "               whiskerprops=dict(linewidth=linewidth, markersize=markersize),\n",
    "               widths=box_width,\n",
    "               boxprops=dict(\n",
    "                   linewidth=linewidth,\n",
    "                   facecolor=gray_color,\n",
    "               ),\n",
    "               meanprops=dict(\n",
    "                   linewidth=linewidth,\n",
    "                   markersize=markersize,\n",
    "                   marker=\"D\",\n",
    "                   markerfacecolor=\"w\",\n",
    "                   markeredgecolor=\"k\",\n",
    "               ),\n",
    "               medianprops=dict(linewidth=linewidth, color=primary_color))\n",
    "    \n",
    "        ax[idx].grid(axis='y', which='both')\n",
    "        ax[idx].set_axisbelow(True)\n",
    "\n",
    "        ax[idx].yaxis.set_tick_params(labelsize=ticksize)\n",
    "\n",
    "        ax[idx].set_yscale(scales[idx])\n",
    "\n",
    "        ax[idx].set_ylabel(labels[idx], fontsize=labelsize)\n",
    "        \n",
    "        ax[idx].set_xticks([])\n",
    "    \n",
    "    f.tight_layout(pad=3.0)\n",
    "    f.savefig(output_path,\n",
    "              pad_inches=0.00,\n",
    "              bbox_inches=\"tight\")\n",
    "    plt.show()"
   ]
  },
  {
   "cell_type": "markdown",
   "metadata": {},
   "source": [
    "## RA1: Rationale behind Manual Testing"
   ]
  },
  {
   "cell_type": "markdown",
   "metadata": {},
   "source": [
    "### RQ1.1: Why is software tested manually and what technological and organizational challenges hinder test automation?"
   ]
  },
  {
   "cell_type": "code",
   "execution_count": null,
   "metadata": {},
   "outputs": [],
   "source": [
    "# read sheet\n",
    "sheet_name = \"T125\"\n",
    "df = pd.read_excel(survey_answers_file_path, sheet_name=sheet_name)\n",
    "\n",
    "# remove first two cols (case, A/TXXX)\n",
    "df = df.iloc[:, 2:]\n",
    "\n",
    "# drop all aggregation and empty cols\n",
    "cols = [c for c in df.columns if \"Sum of\" not in c and \"Unnamed\" not in c and \"Quote\" not in c]\n",
    "df = df[cols]"
   ]
  },
  {
   "cell_type": "code",
   "execution_count": null,
   "metadata": {},
   "outputs": [],
   "source": [
    "df.sum(axis=0)"
   ]
  },
  {
   "cell_type": "code",
   "execution_count": null,
   "metadata": {},
   "outputs": [],
   "source": [
    "# advantages of manual testing\n",
    "data = {\n",
    "    \"Broader scope of test\": 14,\n",
    "    \"High cost-efficiency\": 7,\n",
    "    \"High flexibility\": 6,\n",
    "    \"Intelligent test oracle\": 5\n",
    "}\n",
    "\n",
    "simple_barchart(data, \"rq1-1a.pdf\")"
   ]
  },
  {
   "cell_type": "code",
   "execution_count": null,
   "metadata": {},
   "outputs": [],
   "source": [
    "# disadvantages of automated testing\n",
    "data = {\n",
    "    \"High maintenance effort\": 12,\n",
    "    \"Technological challenges\": 7,\n",
    "    \"Missing automation infrastructure\": 4,\n",
    "    \"High setup costs\": 3\n",
    "}\n",
    "\n",
    "simple_barchart(data, \"rq1-1b.pdf\")"
   ]
  },
  {
   "cell_type": "markdown",
   "metadata": {},
   "source": [
    "### RQ1.2: Which testing activities are carried out manually in practice?"
   ]
  },
  {
   "cell_type": "code",
   "execution_count": null,
   "metadata": {},
   "outputs": [],
   "source": [
    "# read sheet\n",
    "sheet_name = \"T101\"\n",
    "df = pd.read_excel(survey_answers_file_path, sheet_name=sheet_name)\n",
    "\n",
    "# remove first two cols (case, A/TXXX)\n",
    "df = df.iloc[:, 2:]\n",
    "\n",
    "# drop all aggregation and empty cols\n",
    "cols = [c for c in df.columns if \"Sum of\" not in c and \"Unnamed\" not in c and \"Quote\" not in c]\n",
    "df = df[cols]"
   ]
  },
  {
   "cell_type": "code",
   "execution_count": null,
   "metadata": {},
   "outputs": [],
   "source": [
    "df.sum(axis=0)"
   ]
  },
  {
   "cell_type": "code",
   "execution_count": null,
   "metadata": {
    "scrolled": false
   },
   "outputs": [],
   "source": [
    "# Types of tests\n",
    "data = {\n",
    "    \"Regression\": 31,\n",
    "    \"Acceptance\": 25,\n",
    "    \"Smoke\": 22,\n",
    "    \"Exploratory\": 18,\n",
    "    \"Performance\": 12,\n",
    "    \"Robustness\": 9,\n",
    "    \"Interoperability\": 6\n",
    "}\n",
    "\n",
    "simple_barchart(data, \"rq1-2.pdf\")"
   ]
  },
  {
   "cell_type": "markdown",
   "metadata": {},
   "source": [
    "## RA2: Characteristics of Manual Testing"
   ]
  },
  {
   "cell_type": "markdown",
   "metadata": {},
   "source": [
    "### RQ2.1: How much effort is invested into manual software testing?"
   ]
  },
  {
   "cell_type": "code",
   "execution_count": null,
   "metadata": {},
   "outputs": [],
   "source": [
    "data = []\n",
    "labels = []\n",
    "scales = []"
   ]
  },
  {
   "cell_type": "markdown",
   "metadata": {},
   "source": [
    "#### A - Test Suite Size"
   ]
  },
  {
   "cell_type": "code",
   "execution_count": null,
   "metadata": {},
   "outputs": [],
   "source": [
    "# read sheet\n",
    "sheet_name = \"T102\"\n",
    "df = pd.read_excel(survey_answers_file_path, sheet_name=sheet_name)\n",
    "\n",
    "# remove first two cols (case, A/TXXX)\n",
    "df = df.iloc[:, 2:]\n",
    "\n",
    "# drop all aggregation and empty cols\n",
    "cols = [c for c in df.columns if \"Sum of\" not in c and \"Unnamed\" not in c and \"Quote\" not in c and \"[Data]\" not in c]\n",
    "df = df[cols]\n",
    "\n",
    "df = df[df['Data'].notna()]"
   ]
  },
  {
   "cell_type": "code",
   "execution_count": null,
   "metadata": {},
   "outputs": [],
   "source": [
    "d = df.to_numpy()\n",
    "data.append(d)\n",
    "l = \"Number of test cases\"\n",
    "labels.append(l)\n",
    "s = \"log\"\n",
    "scales.append(s)"
   ]
  },
  {
   "cell_type": "markdown",
   "metadata": {},
   "source": [
    "#### B - Tester"
   ]
  },
  {
   "cell_type": "code",
   "execution_count": null,
   "metadata": {},
   "outputs": [],
   "source": [
    "# read sheet\n",
    "sheet_name = \"T103\"\n",
    "df = pd.read_excel(survey_answers_file_path, sheet_name=sheet_name)\n",
    "\n",
    "# remove first two cols (case, A/TXXX)\n",
    "df = df.iloc[:, 2:]\n",
    "\n",
    "# drop all aggregation and empty cols\n",
    "cols = [c for c in df.columns if \"Sum of\" not in c and \"Unnamed\" not in c and \"Quote\" not in c and \"[Data]\" not in c]\n",
    "df = df[cols]\n",
    "\n",
    "df = df[df['Data'].notna()]"
   ]
  },
  {
   "cell_type": "code",
   "execution_count": null,
   "metadata": {},
   "outputs": [],
   "source": [
    "d = df.to_numpy()\n",
    "data.append(d)\n",
    "l = \"Number of testers\"\n",
    "labels.append(l)\n",
    "s = \"linear\"\n",
    "scales.append(s)"
   ]
  },
  {
   "cell_type": "markdown",
   "metadata": {},
   "source": [
    "#### C - Test Cycles per Year"
   ]
  },
  {
   "cell_type": "code",
   "execution_count": null,
   "metadata": {},
   "outputs": [],
   "source": [
    "# read sheet\n",
    "sheet_name = \"T104\"\n",
    "df = pd.read_excel(survey_answers_file_path, sheet_name=sheet_name)\n",
    "\n",
    "# remove first two cols (case, A/TXXX)\n",
    "df = df.iloc[:, 2:]\n",
    "\n",
    "# drop all aggregation and empty cols*\n",
    "cols = [c for c in df.columns if \"Sum of\" not in c and \"Unnamed\" not in c and \"Quote\" not in c and \"[Data]\" not in c]\n",
    "df = df[cols]\n",
    "\n",
    "df = df[df['Data'].notna()]"
   ]
  },
  {
   "cell_type": "code",
   "execution_count": null,
   "metadata": {},
   "outputs": [],
   "source": [
    "d = df.to_numpy()\n",
    "data.append(d)\n",
    "l = \"Number of test cycles\"\n",
    "labels.append(l)\n",
    "s = \"linear\"\n",
    "scales.append(s)"
   ]
  },
  {
   "cell_type": "markdown",
   "metadata": {},
   "source": [
    "#### D - Tests per (Major) Cycle"
   ]
  },
  {
   "cell_type": "code",
   "execution_count": null,
   "metadata": {},
   "outputs": [],
   "source": [
    "# read sheet\n",
    "sheet_name = \"T105\"\n",
    "df = pd.read_excel(survey_answers_file_path, sheet_name=sheet_name)\n",
    "\n",
    "# remove first two cols (case, A/TXXX)\n",
    "df = df.iloc[:, 2:]\n",
    "\n",
    "# drop all aggregation and empty cols\n",
    "cols = [c for c in df.columns if \"Sum of\" not in c and \"Unnamed\" not in c and \"Quote\" not in c and \"[\" not in c and \"Minor\" not in c]\n",
    "df = df[cols]\n",
    "\n",
    "df = df[df['Major'].notna()]"
   ]
  },
  {
   "cell_type": "code",
   "execution_count": null,
   "metadata": {},
   "outputs": [],
   "source": [
    "d = df.to_numpy()\n",
    "data.append(d)\n",
    "l = \"Number of tests per cycle\"\n",
    "labels.append(l)\n",
    "s = \"linear\"\n",
    "scales.append(s)"
   ]
  },
  {
   "cell_type": "markdown",
   "metadata": {},
   "source": [
    "#### E - Test Execution Time [min]"
   ]
  },
  {
   "cell_type": "code",
   "execution_count": null,
   "metadata": {},
   "outputs": [],
   "source": [
    "# read sheet\n",
    "sheet_name = \"T106\"\n",
    "df = pd.read_excel(survey_answers_file_path, sheet_name=sheet_name)\n",
    "\n",
    "# remove first two cols (case, A/TXXX)\n",
    "df = df.iloc[:, 2:]\n",
    "\n",
    "# drop all aggregation and empty cols\n",
    "cols = [c for c in df.columns if \"Sum of\" not in c and \"Unnamed\" not in c and \"Quote\" not in c and \"[\" not in c and \"Minor\" not in c]\n",
    "df = df[cols]\n",
    "\n",
    "df = df[df['Data (avg)'].notna()]"
   ]
  },
  {
   "cell_type": "code",
   "execution_count": null,
   "metadata": {},
   "outputs": [],
   "source": [
    "d = df.to_numpy()\n",
    "data.append(d)\n",
    "l = \"Execution time per test [min]\"\n",
    "labels.append(l)\n",
    "s = \"linear\"\n",
    "scales.append(s)"
   ]
  },
  {
   "cell_type": "markdown",
   "metadata": {},
   "source": [
    "#### F - Execution Time Cycle"
   ]
  },
  {
   "cell_type": "code",
   "execution_count": null,
   "metadata": {},
   "outputs": [],
   "source": [
    "# read sheet\n",
    "sheet_name = \"T107\"\n",
    "df = pd.read_excel(survey_answers_file_path, sheet_name=sheet_name)\n",
    "\n",
    "# remove first two cols (case, A/TXXX)\n",
    "df = df.iloc[:, 2:]\n",
    "\n",
    "# drop all aggregation and empty cols\n",
    "cols = [c for c in df.columns if \"Sum of\" not in c and \"Unnamed\" not in c and \"Quote\" not in c and \"[\" not in c and \"Minor\" not in c]\n",
    "df = df[cols]\n",
    "\n",
    "df = df[df['Data'].notna()]"
   ]
  },
  {
   "cell_type": "code",
   "execution_count": null,
   "metadata": {},
   "outputs": [],
   "source": [
    "d = df.to_numpy()\n",
    "data.append(d)\n",
    "l = \"Execution time per cycle [h]\"\n",
    "labels.append(l)\n",
    "s = \"linear\"\n",
    "scales.append(s)"
   ]
  },
  {
   "cell_type": "markdown",
   "metadata": {},
   "source": [
    "#### Multi plot"
   ]
  },
  {
   "cell_type": "code",
   "execution_count": null,
   "metadata": {},
   "outputs": [],
   "source": [
    "multi_boxplot(data, labels, scales, \"rq2-1.pdf\")"
   ]
  },
  {
   "cell_type": "markdown",
   "metadata": {},
   "source": [
    "### RQ2.3: How are test cases selected for execution and how are tests assigned to testers?"
   ]
  },
  {
   "cell_type": "code",
   "execution_count": null,
   "metadata": {},
   "outputs": [],
   "source": [
    "# read sheet\n",
    "sheet_name = \"T110\"\n",
    "df = pd.read_excel(survey_answers_file_path, sheet_name=sheet_name)\n",
    "\n",
    "# remove first four cols (case, A/TXXX)\n",
    "df = df.iloc[:, 2:]\n",
    "\n",
    "# drop all aggregation and empty cols\n",
    "cols = [c for c in df.columns if \"Sum of\" not in c and \"Unnamed\" not in c and \"Quote\" not in c]\n",
    "df = df[cols]"
   ]
  },
  {
   "cell_type": "code",
   "execution_count": null,
   "metadata": {},
   "outputs": [],
   "source": [
    "df.sum(axis=0)"
   ]
  },
  {
   "cell_type": "code",
   "execution_count": null,
   "metadata": {},
   "outputs": [],
   "source": [
    "# Selection Strategy\n",
    "data = {\n",
    "    \"Expert knowledge\": 18,\n",
    "    \"Area of responsibility\": 17,\n",
    "    \"Time capacity\": 6,\n",
    "    \"Self-assignment\": 6,\n",
    "    \"Lead-assignment\": 4,\n",
    "    \"No assignment\": 3,\n",
    "    \"Preferences\": 2,\n",
    "    \"Random\": 1,\n",
    "    \"Alternation\": 1,\n",
    "}\n",
    "\n",
    "simple_barchart(data, \"rq2-3.pdf\")"
   ]
  },
  {
   "cell_type": "markdown",
   "metadata": {},
   "source": [
    "### RQ2.4: What are technical and organizational characteristics of (sub-)systems that are tested manually?"
   ]
  },
  {
   "cell_type": "code",
   "execution_count": null,
   "metadata": {},
   "outputs": [],
   "source": [
    "# read sheet\n",
    "sheet_name = \"T120\"\n",
    "df = pd.read_excel(survey_answers_file_path, sheet_name=sheet_name)\n",
    "\n",
    "# remove first two cols (case, A/TXXX)\n",
    "df = df.iloc[:, 2:]\n",
    "\n",
    "# drop all aggregation and empty cols\n",
    "cols = [c for c in df.columns if \"Sum of\" not in c and \"Unnamed\" not in c and \"Quote\" not in c]\n",
    "df = df[cols]"
   ]
  },
  {
   "cell_type": "code",
   "execution_count": null,
   "metadata": {},
   "outputs": [],
   "source": [
    "df.sum(axis=0)"
   ]
  },
  {
   "cell_type": "code",
   "execution_count": null,
   "metadata": {},
   "outputs": [],
   "source": [
    "# Organizational testing\n",
    "data = {\n",
    "    \"Developers test\": 14,\n",
    "    \"Testers are part of dev team\": 12,\n",
    "    \"Dedicated testing team\": 7,\n",
    "    \"Specialist department or customer\": 7,\n",
    "    \"External testers\": 4\n",
    "}\n",
    "\n",
    "simple_barchart(data, \"rq2-4.pdf\")"
   ]
  },
  {
   "cell_type": "markdown",
   "metadata": {},
   "source": [
    "## RA3: Optimization Techniques in Manual Testing"
   ]
  },
  {
   "cell_type": "markdown",
   "metadata": {},
   "source": [
    "### RQ3.1: Do manual test teams aim at test automation? How much time do they plan to invest?"
   ]
  },
  {
   "cell_type": "code",
   "execution_count": null,
   "metadata": {},
   "outputs": [],
   "source": [
    "# read sheet\n",
    "sheet_name = \"A107\"\n",
    "df = pd.read_excel(survey_answers_file_path, sheet_name=sheet_name)\n",
    "# remove first two cols (case, A/TXXX)\n",
    "df = df.iloc[:, 2:]\n",
    "# drop all aggregation and empty cols\n",
    "cols = [c for c in df.columns if \"Sum of\" not in c and \"Unnamed\" not in c and \"Quote\" not in c]\n",
    "df = df[cols]"
   ]
  },
  {
   "cell_type": "code",
   "execution_count": null,
   "metadata": {},
   "outputs": [],
   "source": [
    "df.sum(axis=0)"
   ]
  },
  {
   "cell_type": "code",
   "execution_count": null,
   "metadata": {},
   "outputs": [],
   "source": [
    "data = {\n",
    "    \"Higher degree of automation\": 12,\n",
    "    \"Lower manual test effort\": 8,\n",
    "    \"More targeted testing with the same effort\": 6,\n",
    "    \"No change\": 3,\n",
    "    \"Higher manual test effort\": 2,\n",
    "    \"Selection strategy\": 2,\n",
    "    \"Change of responsibility\": 1\n",
    "}\n",
    "simple_barchart(data, \"rq3-1.pdf\")"
   ]
  },
  {
   "cell_type": "code",
   "execution_count": null,
   "metadata": {},
   "outputs": [],
   "source": []
  }
 ],
 "metadata": {
  "kernelspec": {
   "display_name": "Python 3",
   "language": "python",
   "name": "python3"
  },
  "language_info": {
   "codemirror_mode": {
    "name": "ipython",
    "version": 3
   },
   "file_extension": ".py",
   "mimetype": "text/x-python",
   "name": "python",
   "nbconvert_exporter": "python",
   "pygments_lexer": "ipython3",
   "version": "3.9.4"
  },
  "toc": {
   "base_numbering": 1,
   "nav_menu": {},
   "number_sections": true,
   "sideBar": true,
   "skip_h1_title": false,
   "title_cell": "Table of Contents",
   "title_sidebar": "Contents",
   "toc_cell": false,
   "toc_position": {
    "height": "calc(100% - 180px)",
    "left": "10px",
    "top": "150px",
    "width": "440px"
   },
   "toc_section_display": true,
   "toc_window_display": true
  }
 },
 "nbformat": 4,
 "nbformat_minor": 4
}
